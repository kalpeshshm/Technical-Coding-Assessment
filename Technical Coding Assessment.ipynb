{
 "cells": [
  {
   "cell_type": "markdown",
   "id": "0e1fc2bd",
   "metadata": {},
   "source": [
    "# Technical Coding Assessment"
   ]
  },
  {
   "cell_type": "markdown",
   "id": "83519d8a",
   "metadata": {},
   "source": [
    "# Problem Statement:  "
   ]
  },
  {
   "cell_type": "raw",
   "id": "1a8d0f9a",
   "metadata": {},
   "source": [
    "#You will have a number of elements and in the next n lines element of a list. You have to create a list from the given strings. You have to sort the list based on 2nd last character of a string."
   ]
  },
  {
   "cell_type": "code",
   "execution_count": 3,
   "id": "e592740a",
   "metadata": {},
   "outputs": [
    {
     "name": "stdout",
     "output_type": "stream",
     "text": [
      "['great', 'abc', 'hello', 'hiyo']\n"
     ]
    }
   ],
   "source": [
    "list = ['great', 'abc', 'hello','hiyo']\n",
    "list.sort(key=lambda x:x[-2])\n",
    "print(list)\n"
   ]
  },
  {
   "cell_type": "code",
   "execution_count": null,
   "id": "bbeb4d22",
   "metadata": {},
   "outputs": [],
   "source": []
  }
 ],
 "metadata": {
  "kernelspec": {
   "display_name": "Python 3 (ipykernel)",
   "language": "python",
   "name": "python3"
  },
  "language_info": {
   "codemirror_mode": {
    "name": "ipython",
    "version": 3
   },
   "file_extension": ".py",
   "mimetype": "text/x-python",
   "name": "python",
   "nbconvert_exporter": "python",
   "pygments_lexer": "ipython3",
   "version": "3.10.0"
  }
 },
 "nbformat": 4,
 "nbformat_minor": 5
}
